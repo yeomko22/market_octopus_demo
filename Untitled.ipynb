{
 "cells": [
  {
   "cell_type": "code",
   "execution_count": 1,
   "id": "0ab75f68-42ed-4b30-b6ad-5ee42c406360",
   "metadata": {},
   "outputs": [],
   "source": [
    "import pandas as pd\n",
    "\n",
    "df = pd.read_csv(\"data/tickers.csv\")"
   ]
  },
  {
   "cell_type": "code",
   "execution_count": 3,
   "id": "84e1ad6d-8e4c-4fe5-9fb3-a641c327ea11",
   "metadata": {},
   "outputs": [
    {
     "name": "stdout",
     "output_type": "stream",
     "text": [
      "Collecting deepl\n",
      "  Downloading deepl-1.17.0-py3-none-any.whl.metadata (26 kB)\n",
      "Requirement already satisfied: requests<3,>=2 in /Users/user/miniconda3/lib/python3.10/site-packages (from deepl) (2.31.0)\n",
      "Requirement already satisfied: charset-normalizer<4,>=2 in /Users/user/miniconda3/lib/python3.10/site-packages (from requests<3,>=2->deepl) (3.2.0)\n",
      "Requirement already satisfied: idna<4,>=2.5 in /Users/user/miniconda3/lib/python3.10/site-packages (from requests<3,>=2->deepl) (2.10)\n",
      "Requirement already satisfied: urllib3<3,>=1.21.1 in /Users/user/miniconda3/lib/python3.10/site-packages (from requests<3,>=2->deepl) (1.26.13)\n",
      "Requirement already satisfied: certifi>=2017.4.17 in /Users/user/miniconda3/lib/python3.10/site-packages (from requests<3,>=2->deepl) (2022.12.7)\n",
      "Downloading deepl-1.17.0-py3-none-any.whl (35 kB)\n",
      "\u001b[33mDEPRECATION: pytorch-lightning 1.8.3.post1 has a non-standard dependency specifier torch>=1.9.*. pip 24.0 will enforce this behaviour change. A possible replacement is to upgrade to a newer version of pytorch-lightning or contact the author to suggest that they release a version with a conforming dependency specifiers. Discussion can be found at https://github.com/pypa/pip/issues/12063\u001b[0m\u001b[33m\n",
      "\u001b[0m\u001b[33mDEPRECATION: mecab-python 0.996-ko-0.9.2 has a non-standard version number. pip 24.0 will enforce this behaviour change. A possible replacement is to upgrade to a newer version of mecab-python or contact the author to suggest that they release a version with a conforming version number. Discussion can be found at https://github.com/pypa/pip/issues/12063\u001b[0m\u001b[33m\n",
      "\u001b[0mInstalling collected packages: deepl\n",
      "Successfully installed deepl-1.17.0\n",
      "\n",
      "\u001b[1m[\u001b[0m\u001b[34;49mnotice\u001b[0m\u001b[1;39;49m]\u001b[0m\u001b[39;49m A new release of pip is available: \u001b[0m\u001b[31;49m23.3.2\u001b[0m\u001b[39;49m -> \u001b[0m\u001b[32;49m24.0\u001b[0m\n",
      "\u001b[1m[\u001b[0m\u001b[34;49mnotice\u001b[0m\u001b[1;39;49m]\u001b[0m\u001b[39;49m To update, run: \u001b[0m\u001b[32;49mpip install --upgrade pip\u001b[0m\n"
     ]
    }
   ],
   "source": [
    "!pip install --upgrade deepl"
   ]
  },
  {
   "cell_type": "code",
   "execution_count": 6,
   "id": "b3947dd2-650f-4319-8061-e7c6ef34eea4",
   "metadata": {},
   "outputs": [
    {
     "name": "stdout",
     "output_type": "stream",
     "text": [
      "안녕하세요, 세상 여러분!\n"
     ]
    }
   ],
   "source": [
    "import deepl\n",
    "\n",
    "auth_key = \"ffaf7f3d-4f81-4424-a2ad-c99805563428:fx\"  # Replace with your key\n",
    "translator = deepl.Translator(auth_key)\n",
    "\n",
    "result = translator.translate_text(\"Hello, world!\", target_lang=\"KO\")\n",
    "print(result.text)  # \"Bonjour, le monde !\""
   ]
  },
  {
   "cell_type": "code",
   "execution_count": 10,
   "id": "710a82aa-bb68-4822-81ce-e234ed577fc7",
   "metadata": {},
   "outputs": [
    {
     "data": {
      "application/vnd.jupyter.widget-view+json": {
       "model_id": "52292f35e1cd4925892aa9cba27786f5",
       "version_major": 2,
       "version_minor": 0
      },
      "text/plain": [
       "  0%|          | 0/5319 [00:00<?, ?it/s]"
      ]
     },
     "metadata": {},
     "output_type": "display_data"
    }
   ],
   "source": [
    "from tqdm.notebook import tqdm\n",
    "import csv\n",
    "\n",
    "with open(\"./data/ticker_translation.csv\", \"a\") as fw:\n",
    "    writer = csv.writer(fw)\n",
    "    # writer.writerow([\"ticker\", \"name\", \"eng_description\", \"kor_description\"])\n",
    "    for i in tqdm(range(len(df))):\n",
    "        ticker, name, description = df.iloc[i]\n",
    "        if i < 500:\n",
    "            continue\n",
    "            # kor_description = translator.translate_text(description, target_lang=\"KO\") \n",
    "        else:\n",
    "            kor_description = \"\"\n",
    "        writer.writerow([ticker, name, description, kor_description])\n",
    "        fw.flush()"
   ]
  },
  {
   "cell_type": "code",
   "execution_count": 3,
   "id": "bf178a3b-8eb9-42b3-9f9b-c97adbc12c04",
   "metadata": {},
   "outputs": [],
   "source": [
    "date = mcal.get_calendar(\"NYSE\")"
   ]
  },
  {
   "cell_type": "code",
   "execution_count": 4,
   "id": "2e5c4853-e56a-4bf7-b1f7-c51dd4b7a7f6",
   "metadata": {},
   "outputs": [
    {
     "data": {
      "text/plain": [
       "<pandas_market_calendars.calendars.nyse.NYSEExchangeCalendar at 0x120639780>"
      ]
     },
     "execution_count": 4,
     "metadata": {},
     "output_type": "execute_result"
    }
   ],
   "source": [
    "date"
   ]
  },
  {
   "cell_type": "code",
   "execution_count": 8,
   "id": "d9a7e130-177a-4620-8fa0-65b62b38df7b",
   "metadata": {},
   "outputs": [
    {
     "data": {
      "text/plain": [
       "Timestamp('2024-03-15 00:00:00+0000', tz='UTC')"
      ]
     },
     "execution_count": 8,
     "metadata": {},
     "output_type": "execute_result"
    }
   ],
   "source": [
    "from datetime import datetime\n",
    "date.valid_days(start_date=start_date, end_date=today)[-1]"
   ]
  },
  {
   "cell_type": "code",
   "execution_count": 6,
   "id": "9c9bbae8-70b0-4071-b94d-ce52d2fb2c27",
   "metadata": {},
   "outputs": [],
   "source": [
    "from datetime import timedelta\n",
    "\n",
    "today = datetime.now()\n",
    "start_date = today - timedelta(days=30)"
   ]
  },
  {
   "cell_type": "code",
   "execution_count": null,
   "id": "bf6efad3-7031-4b19-a45b-989592931992",
   "metadata": {},
   "outputs": [],
   "source": []
  }
 ],
 "metadata": {
  "kernelspec": {
   "display_name": "Python 3 (ipykernel)",
   "language": "python",
   "name": "python3"
  },
  "language_info": {
   "codemirror_mode": {
    "name": "ipython",
    "version": 3
   },
   "file_extension": ".py",
   "mimetype": "text/x-python",
   "name": "python",
   "nbconvert_exporter": "python",
   "pygments_lexer": "ipython3",
   "version": "3.10.8"
  }
 },
 "nbformat": 4,
 "nbformat_minor": 5
}
